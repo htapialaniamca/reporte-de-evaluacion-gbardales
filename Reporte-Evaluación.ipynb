{
 "cells": [
  {
   "cell_type": "markdown",
   "metadata": {},
   "source": [
    "### REPORTE DE EVALUACIÓN - GLORIA BARDALES"
   ]
  },
  {
   "cell_type": "markdown",
   "metadata": {},
   "source": [
    "A continuación se describen los pasos a seguir para manejar el circuito conectado a una raspberry, en este caso de **rpi-lania3** (192.168.100.98) a **rpi-lania4**."
   ]
  },
  {
   "cell_type": "markdown",
   "metadata": {},
   "source": [
    "1.\tConectarse a la raspberry3 desde PUTTY utilizando la ip 192.168.100.98\n",
    "![](http://oi65.tinypic.com/33emwiv.jpg)\n",
    "\n",
    "\n",
    "2.\tIngresar como usuario *\"pi\"*, y escribir la contraseña correspondiente a la rpi-lania3\n",
    "![](http://oi65.tinypic.com/29ly3qe.jpg)\n",
    "\n",
    "\n",
    "3.\tIngresar a la carpeta comades con el comando \"cd comades/python\"\n",
    "![](http://oi66.tinypic.com/2gy6r0z.jpg)\n",
    "\n",
    "\n",
    "4.\tVerificar los archivos que existen en la carpeta comades con el comando *“ls”*, para identificar el nombre del archivo de python que contiene el código para manejar el circuito.\n",
    "![](http://oi66.tinypic.com/2vboqop.jpg)\n",
    "\n",
    "\n",
    "5.\tAbrir el archivo que contiene el código para el manejo de circuitos, en este caso ledequipo3.py, con el comando *“nano ledequipo3.py”*\n",
    "![](http://oi64.tinypic.com/28kkn46.jpg)\n",
    ">Luego de verificar el archivo, cerrar con Ctrl+X y guardar los cambios realizados.\n",
    "![](http://oi66.tinypic.com/2dvorw7.jpg)\n",
    "\n",
    "6.\tCopiar el archivo ledequipo3.py en la raspberry que actuará como esclavo, en este caso rpi-lania4, utilizando el comando *“scp ledequipo3.py pi@rpi-lania4.local:~/comades/python”*\n",
    "![](http://oi65.tinypic.com/2w4znup.jpg)\n",
    "\n",
    "\n",
    "7.\tEjecutar el archivo ledequipo3.py para encender el led correspondiente en la rpi-lania4, utilizando el comando *“mpirun.openmpi -np 2 -machinefile machinefile2 python ledequipo3.py”*\n",
    "![](http://oi63.tinypic.com/ornxhc.jpg)\n",
    "En donde se le indica la cantidad de nodos con los que se trabaja, y el archivo con el que identificará a esos nodos, en este caso machinefile2\n",
    "**Nota: al ejecutar ledequipo3.py sucede lo siguiente:**\n",
    ">Solicita contraseña de rpi-lania2\n",
    ">Marca error indicando que el archivo ledequipo3.py no se encuentra\n",
    "Esto sucede por que no se modifico el machinefile2, en el cual rpilania2 figuraba como esclavo.\n",
    ">\n",
    "\n",
    "8.\tModificar el archivo machinefile2, con el comando *“nano machinefile2”*; especificando el maestro y el esclavo.\n",
    ">rpi-lania3\n",
    ">rpi-lana4\n",
    "![](http://oi67.tinypic.com/2z4wchy.jpg)\n",
    ">\n",
    "\n",
    "9.\tEjecutar el archivo ledequipo3.py para encender el led correspondiente en la rpi-lania4, utilizando el comando “mpirun.openmpi -np 2 -machinefile machinefile2 python ledequipo3.py”\n",
    "Se observa que el led en la rpi-lania4 enciende, y apaga hasta llegar a 2500 peticiones.\n",
    ">\n",
    "\n",
    "10.\tAl finalizar la ejecución del archivo ledequipo3.py, se emplea el comando “exit” para salir de rpi-lania3, y con esto finaliza la evaluación.\n"
   ]
  },
  {
   "cell_type": "code",
   "execution_count": null,
   "metadata": {
    "collapsed": true
   },
   "outputs": [],
   "source": []
  }
 ],
 "metadata": {
  "kernelspec": {
   "display_name": "Python 2",
   "language": "python",
   "name": "python2"
  },
  "language_info": {
   "codemirror_mode": {
    "name": "ipython",
    "version": 2
   },
   "file_extension": ".py",
   "mimetype": "text/x-python",
   "name": "python",
   "nbconvert_exporter": "python",
   "pygments_lexer": "ipython2",
   "version": "2.7.13"
  }
 },
 "nbformat": 4,
 "nbformat_minor": 2
}
